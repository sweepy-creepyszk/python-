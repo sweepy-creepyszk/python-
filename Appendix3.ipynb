{
 "cells": [
  {
   "cell_type": "code",
   "execution_count": 2,
   "id": "259cfc9d",
   "metadata": {},
   "outputs": [
    {
     "name": "stdout",
     "output_type": "stream",
     "text": [
      "テイラー展開\n",
      "21*x/10 + 21/10\n"
     ]
    },
    {
     "data": {
      "text/plain": [
       "(0.0, 10.0)"
      ]
     },
     "execution_count": 2,
     "metadata": {},
     "output_type": "execute_result"
    },
    {
     "data": {
      "image/png": "[encoded data removed]",
      "text/plain": [
       "<Figure size 432x288 with 1 Axes>"
      ]
     },
     "metadata": {
      "needs_background": "light"
     },
     "output_type": "display_data"
    }
   ],
   "source": [
    "from sympy import*\n",
    "import numpy as np\n",
    "from matplotlib import pyplot as plt   \n",
    "\n",
    "n = 1\n",
    "x0 = 0\n",
    "\n",
    "x = Symbol(\"x\")\n",
    "\n",
    "f = 2 + x + sin(x) + exp(x)/ 10\n",
    "\n",
    "taylor = series(f, x=x, x0=x0, n=n+1).removeO()\n",
    "taylor_y = lambdify(x, taylor, 'numpy')\n",
    "print(\"テイラー展開\")\n",
    "print(taylor)\n",
    "\n",
    "x_theory = np.arange(0.0, 10.0, 0.1)\n",
    "y_theory = 2 + x_theory + np.sin(x_theory) + np.exp(x_theory) / 10\n",
    "plt.plot(x_theory, y_theory, lw = 3, c = \"k\")\n",
    "plt.plot(x_theory, taylor_y(x_theory), c = \"b\")\n",
    "plt.xlim([0, 10])"
   ]
  },
  {
   "cell_type": "code",
   "execution_count": 3,
   "id": "9efab01a",
   "metadata": {},
   "outputs": [],
   "source": [
    "def function(X, y, alpha, beta):\n",
    "    cost = (1 / (2 * m)) * np.sum((beta + alpha * X - y) ** 2)\n",
    "    return cost\n",
    "\n",
    "def differential_alpha(X, y, alpha, beta, delta):\n",
    "    d_cost = (function(X, y, alpha + delta, beta) - function(X, y, alpha, beta)) / delta\n",
    "    return d_cost\n",
    "\n",
    "def differential_beta(X, y, alpha, beta, delta):\n",
    "    d_cost = (function(X, y, alpha, beta + delta,) - function(X, y, alpha, beta)) / delta\n",
    "    return d_cost"
   ]
  },
  {
   "cell_type": "code",
   "execution_count": 13,
   "id": "f0b62b69",
   "metadata": {},
   "outputs": [
    {
     "ename": "SyntaxError",
     "evalue": "(unicode error) 'unicodeescape' codec can't decode bytes in position 2-3: truncated \\UXXXXXXXX escape (Temp/ipykernel_6960/3396244195.py, line 6)",
     "output_type": "error",
     "traceback": [
      "\u001b[1;36m  File \u001b[1;32m\"C:\\Users\\kouta\\AppData\\Local\\Temp/ipykernel_6960/3396244195.py\"\u001b[1;36m, line \u001b[1;32m6\u001b[0m\n\u001b[1;33m    df_sample = csv.reader(\"C:\\Users\\kouta\\Downloads\\sample_linear.csv\")\u001b[0m\n\u001b[1;37m                                                                       ^\u001b[0m\n\u001b[1;31mSyntaxError\u001b[0m\u001b[1;31m:\u001b[0m (unicode error) 'unicodeescape' codec can't decode bytes in position 2-3: truncated \\UXXXXXXXX escape\n"
     ]
    }
   ],
   "source": [
    "import numpy as np\n",
    "import matplotlib.pyplot as plt\n",
    "import pandas as pd\n",
    "\n",
    "\n",
    "df_sample = csv.reader(\"C:\\Users\\kouta\\Downloads\\sample_linear.csv\") #文字コードが変わったか。\n",
    "sample = df_sample.values.T\n",
    "\n",
    "\n",
    "X = sample[0]\n",
    "y = sample[1]\n",
    "\n",
    "\n",
    "delta = 0.001 \n",
    "iter = 20000 \n",
    "\n",
    "\n",
    "alpha = 1\n",
    "beta = 1\n",
    "\n",
    "\n",
    "cost = np.zeros(iter)\n",
    "da = np.zeros(iter)\n",
    "m = len(y)\n",
    "for i in range(iter):\n",
    "    \n",
    "    \n",
    "    d_alpha = differential_alpha(X, y, alpha, beta, delta)\n",
    "    d_beta = differential_beta(X, y, alpha, beta, delta)\n",
    "    \n",
    "    \n",
    "    alpha = alpha - delta * d_alpha\n",
    "    beta = beta - delta * d_beta\n",
    "    cost[i] = function(X, y, alpha, beta)\n",
    "    da[i] = alpha\n",
    "    \n",
    "plt.plot(da, c = \"k\")"
   ]
  },
  {
   "cell_type": "code",
   "execution_count": 14,
   "id": "c3c1697f",
   "metadata": {},
   "outputs": [
    {
     "ename": "NameError",
     "evalue": "name 'sample' is not defined",
     "output_type": "error",
     "traceback": [
      "\u001b[1;31m---------------------------------------------------------------------------\u001b[0m",
      "\u001b[1;31mNameError\u001b[0m                                 Traceback (most recent call last)",
      "\u001b[1;32m~\\AppData\\Local\\Temp/ipykernel_6960/727917520.py\u001b[0m in \u001b[0;36m<module>\u001b[1;34m\u001b[0m\n\u001b[1;32m----> 1\u001b[1;33m \u001b[0mplt\u001b[0m\u001b[1;33m.\u001b[0m\u001b[0mscatter\u001b[0m\u001b[1;33m(\u001b[0m\u001b[0msample\u001b[0m\u001b[1;33m[\u001b[0m\u001b[1;36m0\u001b[0m\u001b[1;33m]\u001b[0m\u001b[1;33m,\u001b[0m \u001b[0msample\u001b[0m\u001b[1;33m[\u001b[0m\u001b[1;36m1\u001b[0m\u001b[1;33m]\u001b[0m\u001b[1;33m,\u001b[0m \u001b[0mc\u001b[0m \u001b[1;33m=\u001b[0m \u001b[1;34m\"k\"\u001b[0m\u001b[1;33m)\u001b[0m\u001b[1;33m\u001b[0m\u001b[1;33m\u001b[0m\u001b[0m\n\u001b[0m\u001b[0;32m      2\u001b[0m \u001b[0mplt\u001b[0m\u001b[1;33m.\u001b[0m\u001b[0mplot\u001b[0m\u001b[1;33m(\u001b[0m\u001b[0mX\u001b[0m\u001b[1;33m,\u001b[0m \u001b[0mbeta\u001b[0m \u001b[1;33m+\u001b[0m \u001b[0malpha\u001b[0m \u001b[1;33m*\u001b[0m \u001b[0mX\u001b[0m\u001b[1;33m,\u001b[0m \u001b[0mcolor\u001b[0m \u001b[1;33m=\u001b[0m \u001b[1;34m\"red\"\u001b[0m\u001b[1;33m)\u001b[0m\u001b[1;33m\u001b[0m\u001b[1;33m\u001b[0m\u001b[0m\n\u001b[0;32m      3\u001b[0m \u001b[0mplt\u001b[0m\u001b[1;33m.\u001b[0m\u001b[0mshow\u001b[0m\u001b[1;33m(\u001b[0m\u001b[1;33m)\u001b[0m\u001b[1;33m\u001b[0m\u001b[1;33m\u001b[0m\u001b[0m\n",
      "\u001b[1;31mNameError\u001b[0m: name 'sample' is not defined"
     ]
    }
   ],
   "source": [
    "plt.scatter(sample[0], sample[1], c = \"k\")\n",
    "plt.plot(X, beta + alpha * X, color = \"red\")\n",
    "plt.show()\n"
   ]
  },
  {
   "cell_type": "code",
   "execution_count": null,
   "id": "9cacf984",
   "metadata": {},
   "outputs": [],
   "source": []
  }
 ],
 "metadata": {
  "kernelspec": {
   "display_name": "Python 3 (ipykernel)",
   "language": "python",
   "name": "python3"
  },
  "language_info": {
   "codemirror_mode": {
    "name": "ipython",
    "version": 3
   },
   "file_extension": ".py",
   "mimetype": "text/x-python",
   "name": "python",
   "nbconvert_exporter": "python",
   "pygments_lexer": "ipython3",
   "version": "3.9.7"
  }
 },
 "nbformat": 4,
 "nbformat_minor": 5
}
